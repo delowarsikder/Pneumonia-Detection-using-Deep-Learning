{
 "cells": [
  {
   "cell_type": "code",
   "execution_count": 2,
   "metadata": {
    "scrolled": true
   },
   "outputs": [
    {
     "name": "stderr",
     "output_type": "stream",
     "text": [
      "Using TensorFlow backend.\n"
     ]
    }
   ],
   "source": [
    "import  keras\n",
    "from keras.models import Sequential #initialized the nural network#create cnn for 2d here image is 2d ,but video is 3d\n",
    "from keras.layers import Conv2D\n",
    "from keras.layers import MaxPooling2D\n",
    "from keras.layers import Flatten\n",
    "from keras.layers import Dense #layer fully connected ann \n",
    " "
   ]
  },
  {
   "cell_type": "code",
   "execution_count": 3,
   "metadata": {},
   "outputs": [],
   "source": [
    "#initialization the CNN\n",
    "classifier=Sequential()\n",
    "\n",
    "#step-1 Convolution\n",
    "classifier.add(Conv2D(32,(3,3),input_shape=(64,64,3),activation='relu'))#32 filte ,3 row and column\n",
    "#input_shape 64 x 64 image 3 no of channel\n",
    "\n",
    "#Step 2 - pooling  #reduce array size \n",
    "classifier.add(MaxPooling2D(pool_size=(2,2)))\n",
    "\n",
    "#Adding a second convolution layer #not execute it's next\n",
    "classifier.add(Conv2D(32,(3,3),activation='relu'))#32 filte ,3 row and column\n",
    "classifier.add(MaxPooling2D(pool_size=(2,2)))\n",
    "\n",
    "#Step -3 Flatten #covrt 2d array to 1d\n",
    "classifier.add(Flatten())\n",
    " \n",
    "#Step 4 full connection\n",
    "#adding hidden layer\n",
    "classifier.add(Dense(128,activation='relu'))\n",
    "classifier.add(Dense(1,activation='sigmoid'))"
   ]
  },
  {
   "cell_type": "code",
   "execution_count": 5,
   "metadata": {},
   "outputs": [
    {
     "name": "stdout",
     "output_type": "stream",
     "text": [
      "_________________________________________________________________\n",
      "Layer (type)                 Output Shape              Param #   \n",
      "=================================================================\n",
      "conv2d_1 (Conv2D)            (None, 62, 62, 32)        896       \n",
      "_________________________________________________________________\n",
      "max_pooling2d_1 (MaxPooling2 (None, 31, 31, 32)        0         \n",
      "_________________________________________________________________\n",
      "conv2d_2 (Conv2D)            (None, 29, 29, 32)        9248      \n",
      "_________________________________________________________________\n",
      "max_pooling2d_2 (MaxPooling2 (None, 14, 14, 32)        0         \n",
      "_________________________________________________________________\n",
      "flatten_1 (Flatten)          (None, 6272)              0         \n",
      "_________________________________________________________________\n",
      "dense_1 (Dense)              (None, 128)               802944    \n",
      "_________________________________________________________________\n",
      "dense_2 (Dense)              (None, 1)                 129       \n",
      "=================================================================\n",
      "Total params: 813,217\n",
      "Trainable params: 813,217\n",
      "Non-trainable params: 0\n",
      "_________________________________________________________________\n",
      "None\n"
     ]
    }
   ],
   "source": [
    "print(classifier.summary())"
   ]
  },
  {
   "cell_type": "code",
   "execution_count": 6,
   "metadata": {},
   "outputs": [],
   "source": [
    "#Compiling the CNN\n",
    "classifier.compile(optimizer='adam',loss='binary_crossentropy',metrics=['accuracy'])\n",
    "#Part -2 Fitting the CNN to the images\n"
   ]
  },
  {
   "cell_type": "code",
   "execution_count": 7,
   "metadata": {},
   "outputs": [
    {
     "name": "stdout",
     "output_type": "stream",
     "text": [
      "Found 5216 images belonging to 2 classes.\n",
      "Found 524 images belonging to 2 classes.\n"
     ]
    }
   ],
   "source": [
    "from keras.preprocessing.image import ImageDataGenerator\n",
    "\n",
    "train_datagen = ImageDataGenerator(\n",
    "        rescale=1./255,\n",
    "\n",
    "        shear_range=0.2,\n",
    "        zoom_range=0.2,\n",
    "        horizontal_flip=True)\n",
    "\n",
    "test_datagen = ImageDataGenerator(rescale=1./255)\n",
    "\n",
    "training_set = train_datagen.flow_from_directory(\n",
    "        'chest_xray/train',\n",
    "        target_size=(64, 64),\n",
    "        batch_size=32,\n",
    "        class_mode='binary')\n",
    "\n",
    "validation_set = test_datagen.flow_from_directory(\n",
    "        'chest_xray/validation',\n",
    "        target_size=(64, 64),\n",
    "        batch_size=32,\n",
    "        class_mode='binary')\n"
   ]
  },
  {
   "cell_type": "code",
   "execution_count": 14,
   "metadata": {},
   "outputs": [
    {
     "name": "stdout",
     "output_type": "stream",
     "text": [
      "Found 116 images belonging to 2 classes.\n"
     ]
    }
   ],
   "source": [
    "test_data = test_datagen.flow_from_directory(\n",
    "        'chest_xray/test',\n",
    "        target_size=(64, 64),\n",
    "        batch_size=32,\n",
    "        class_mode='binary')"
   ]
  },
  {
   "cell_type": "code",
   "execution_count": 12,
   "metadata": {},
   "outputs": [
    {
     "name": "stdout",
     "output_type": "stream",
     "text": [
      "Epoch 1/100\n",
      "163/163 [==============================] - 61s 376ms/step - loss: 0.1134 - acc: 0.9561 - val_loss: 0.3332 - val_acc: 0.9008\n",
      "Epoch 2/100\n",
      "163/163 [==============================] - 60s 368ms/step - loss: 0.1023 - acc: 0.9615 - val_loss: 0.3433 - val_acc: 0.8950\n",
      "Epoch 3/100\n",
      "163/163 [==============================] - 60s 370ms/step - loss: 0.1117 - acc: 0.9584 - val_loss: 0.5742 - val_acc: 0.8492\n",
      "Epoch 4/100\n",
      "163/163 [==============================] - 60s 369ms/step - loss: 0.1068 - acc: 0.9622 - val_loss: 0.5752 - val_acc: 0.8321\n",
      "Epoch 5/100\n",
      "163/163 [==============================] - 60s 370ms/step - loss: 0.1043 - acc: 0.9603 - val_loss: 0.5386 - val_acc: 0.8569\n",
      "Epoch 6/100\n",
      "163/163 [==============================] - 61s 371ms/step - loss: 0.1022 - acc: 0.9624 - val_loss: 0.4152 - val_acc: 0.8836\n",
      "Epoch 7/100\n",
      "163/163 [==============================] - 60s 367ms/step - loss: 0.0965 - acc: 0.9640 - val_loss: 0.4586 - val_acc: 0.8645\n",
      "Epoch 8/100\n",
      "163/163 [==============================] - 61s 375ms/step - loss: 0.1027 - acc: 0.9628 - val_loss: 0.3664 - val_acc: 0.8950\n",
      "Epoch 9/100\n",
      "163/163 [==============================] - 62s 377ms/step - loss: 0.0944 - acc: 0.9645 - val_loss: 0.3789 - val_acc: 0.9008\n",
      "Epoch 10/100\n",
      "163/163 [==============================] - 62s 378ms/step - loss: 0.0893 - acc: 0.9666 - val_loss: 0.5354 - val_acc: 0.8511\n",
      "Epoch 11/100\n",
      "163/163 [==============================] - 61s 376ms/step - loss: 0.0950 - acc: 0.9641 - val_loss: 0.4241 - val_acc: 0.8969\n",
      "Epoch 12/100\n",
      "163/163 [==============================] - 61s 377ms/step - loss: 0.0933 - acc: 0.9655 - val_loss: 0.3057 - val_acc: 0.9084\n",
      "Epoch 13/100\n",
      "163/163 [==============================] - 59s 364ms/step - loss: 0.0991 - acc: 0.9645 - val_loss: 0.3871 - val_acc: 0.8950\n",
      "Epoch 14/100\n",
      "163/163 [==============================] - 61s 375ms/step - loss: 0.0866 - acc: 0.9676 - val_loss: 0.3849 - val_acc: 0.9084\n",
      "Epoch 15/100\n",
      "163/163 [==============================] - 62s 381ms/step - loss: 0.0888 - acc: 0.9668 - val_loss: 0.3731 - val_acc: 0.8912\n",
      "Epoch 16/100\n",
      "163/163 [==============================] - 62s 382ms/step - loss: 0.0835 - acc: 0.9697 - val_loss: 0.3281 - val_acc: 0.9160\n",
      "Epoch 17/100\n",
      "163/163 [==============================] - 62s 378ms/step - loss: 0.0863 - acc: 0.9663 - val_loss: 0.4362 - val_acc: 0.8817\n",
      "Epoch 18/100\n",
      "163/163 [==============================] - 61s 372ms/step - loss: 0.0922 - acc: 0.9653 - val_loss: 0.4645 - val_acc: 0.8702\n",
      "Epoch 19/100\n",
      "163/163 [==============================] - 61s 375ms/step - loss: 0.0817 - acc: 0.9680 - val_loss: 0.5786 - val_acc: 0.8359\n",
      "Epoch 20/100\n",
      "163/163 [==============================] - 60s 365ms/step - loss: 0.0866 - acc: 0.9678 - val_loss: 0.4024 - val_acc: 0.8874\n",
      "Epoch 21/100\n",
      "163/163 [==============================] - 60s 369ms/step - loss: 0.0817 - acc: 0.9697 - val_loss: 0.6983 - val_acc: 0.8378\n",
      "Epoch 22/100\n",
      "163/163 [==============================] - 60s 369ms/step - loss: 0.0806 - acc: 0.9686 - val_loss: 0.5583 - val_acc: 0.8779\n",
      "Epoch 23/100\n",
      "163/163 [==============================] - 60s 369ms/step - loss: 0.0766 - acc: 0.9709 - val_loss: 0.3427 - val_acc: 0.9065\n",
      "Epoch 24/100\n",
      "163/163 [==============================] - 60s 367ms/step - loss: 0.0688 - acc: 0.9758 - val_loss: 0.4444 - val_acc: 0.9027\n",
      "Epoch 25/100\n",
      "163/163 [==============================] - 60s 369ms/step - loss: 0.0812 - acc: 0.9676 - val_loss: 0.2890 - val_acc: 0.9179\n",
      "Epoch 26/100\n",
      "163/163 [==============================] - 60s 369ms/step - loss: 0.0707 - acc: 0.9732 - val_loss: 0.6815 - val_acc: 0.8378\n",
      "Epoch 27/100\n",
      "163/163 [==============================] - 61s 371ms/step - loss: 0.0700 - acc: 0.9749 - val_loss: 0.4626 - val_acc: 0.8740\n",
      "Epoch 28/100\n",
      "163/163 [==============================] - 61s 371ms/step - loss: 0.0714 - acc: 0.9730 - val_loss: 0.3760 - val_acc: 0.9008\n",
      "Epoch 29/100\n",
      "163/163 [==============================] - 61s 373ms/step - loss: 0.0679 - acc: 0.9770 - val_loss: 0.4421 - val_acc: 0.8817\n",
      "Epoch 30/100\n",
      "163/163 [==============================] - 60s 367ms/step - loss: 0.0778 - acc: 0.9693 - val_loss: 0.4795 - val_acc: 0.8779\n",
      "Epoch 31/100\n",
      "163/163 [==============================] - 60s 367ms/step - loss: 0.0719 - acc: 0.9755 - val_loss: 0.2760 - val_acc: 0.9198\n",
      "Epoch 32/100\n",
      "163/163 [==============================] - 60s 367ms/step - loss: 0.0714 - acc: 0.9722 - val_loss: 0.4131 - val_acc: 0.9008\n",
      "Epoch 33/100\n",
      "163/163 [==============================] - 60s 367ms/step - loss: 0.0682 - acc: 0.9749 - val_loss: 0.5159 - val_acc: 0.8912\n",
      "Epoch 34/100\n",
      "163/163 [==============================] - 60s 368ms/step - loss: 0.0697 - acc: 0.9745 - val_loss: 0.3487 - val_acc: 0.9103\n",
      "Epoch 35/100\n",
      "163/163 [==============================] - 60s 366ms/step - loss: 0.0710 - acc: 0.9722 - val_loss: 0.3320 - val_acc: 0.9065\n",
      "Epoch 36/100\n",
      "163/163 [==============================] - 60s 366ms/step - loss: 0.0671 - acc: 0.9745 - val_loss: 0.3188 - val_acc: 0.9027\n",
      "Epoch 37/100\n",
      "163/163 [==============================] - 60s 367ms/step - loss: 0.0698 - acc: 0.9758 - val_loss: 0.5426 - val_acc: 0.8683\n",
      "Epoch 38/100\n",
      "163/163 [==============================] - 60s 366ms/step - loss: 0.0627 - acc: 0.9780 - val_loss: 0.3717 - val_acc: 0.9008\n",
      "Epoch 39/100\n",
      "163/163 [==============================] - 60s 368ms/step - loss: 0.0579 - acc: 0.9791 - val_loss: 0.4403 - val_acc: 0.8969\n",
      "Epoch 40/100\n",
      "163/163 [==============================] - 60s 368ms/step - loss: 0.0615 - acc: 0.9774 - val_loss: 0.3477 - val_acc: 0.8969\n",
      "Epoch 41/100\n",
      "163/163 [==============================] - 60s 366ms/step - loss: 0.0693 - acc: 0.9732 - val_loss: 0.3866 - val_acc: 0.9084\n",
      "Epoch 42/100\n",
      "163/163 [==============================] - 60s 366ms/step - loss: 0.0627 - acc: 0.9757 - val_loss: 0.5154 - val_acc: 0.8798\n",
      "Epoch 43/100\n",
      "163/163 [==============================] - 60s 365ms/step - loss: 0.0585 - acc: 0.9781 - val_loss: 0.4905 - val_acc: 0.8931\n",
      "Epoch 44/100\n",
      "163/163 [==============================] - 60s 367ms/step - loss: 0.0572 - acc: 0.9785 - val_loss: 0.5238 - val_acc: 0.8969\n",
      "Epoch 45/100\n",
      "163/163 [==============================] - 60s 366ms/step - loss: 0.0508 - acc: 0.9801 - val_loss: 0.4162 - val_acc: 0.8969\n",
      "Epoch 46/100\n",
      "163/163 [==============================] - 60s 367ms/step - loss: 0.0636 - acc: 0.9785 - val_loss: 0.5101 - val_acc: 0.8931\n",
      "Epoch 47/100\n",
      "163/163 [==============================] - 60s 367ms/step - loss: 0.0597 - acc: 0.9780 - val_loss: 0.4741 - val_acc: 0.8969\n",
      "Epoch 48/100\n",
      "163/163 [==============================] - 60s 367ms/step - loss: 0.0610 - acc: 0.9764 - val_loss: 0.3422 - val_acc: 0.9008\n",
      "Epoch 49/100\n",
      "163/163 [==============================] - 60s 369ms/step - loss: 0.0554 - acc: 0.9791 - val_loss: 0.4159 - val_acc: 0.8969\n",
      "Epoch 50/100\n",
      "163/163 [==============================] - 60s 367ms/step - loss: 0.0567 - acc: 0.9787 - val_loss: 0.4853 - val_acc: 0.8779\n",
      "Epoch 51/100\n",
      "163/163 [==============================] - 60s 366ms/step - loss: 0.0581 - acc: 0.9772 - val_loss: 0.4683 - val_acc: 0.8912\n",
      "Epoch 52/100\n",
      "163/163 [==============================] - 60s 368ms/step - loss: 0.0504 - acc: 0.9808 - val_loss: 0.4120 - val_acc: 0.9027\n",
      "Epoch 53/100\n",
      "163/163 [==============================] - 60s 368ms/step - loss: 0.0472 - acc: 0.9827 - val_loss: 0.4859 - val_acc: 0.8893\n",
      "Epoch 54/100\n",
      "163/163 [==============================] - 60s 370ms/step - loss: 0.0494 - acc: 0.9822 - val_loss: 0.4660 - val_acc: 0.9027\n",
      "Epoch 55/100\n",
      "163/163 [==============================] - 60s 370ms/step - loss: 0.0499 - acc: 0.9810 - val_loss: 0.3906 - val_acc: 0.9122\n",
      "Epoch 56/100\n",
      "163/163 [==============================] - 60s 369ms/step - loss: 0.0503 - acc: 0.9835 - val_loss: 0.3567 - val_acc: 0.8989\n",
      "Epoch 57/100\n",
      "163/163 [==============================] - 60s 366ms/step - loss: 0.0556 - acc: 0.9797 - val_loss: 0.4084 - val_acc: 0.8989\n",
      "Epoch 58/100\n",
      "163/163 [==============================] - 60s 368ms/step - loss: 0.0489 - acc: 0.9810 - val_loss: 0.3406 - val_acc: 0.9046\n",
      "Epoch 59/100\n",
      "163/163 [==============================] - 60s 367ms/step - loss: 0.0492 - acc: 0.9806 - val_loss: 0.5991 - val_acc: 0.8702\n",
      "Epoch 60/100\n",
      "163/163 [==============================] - 60s 366ms/step - loss: 0.0530 - acc: 0.9824 - val_loss: 0.3730 - val_acc: 0.8969\n"
     ]
    },
    {
     "name": "stdout",
     "output_type": "stream",
     "text": [
      "Epoch 61/100\n",
      "163/163 [==============================] - 60s 368ms/step - loss: 0.0508 - acc: 0.9822 - val_loss: 0.5168 - val_acc: 0.8855\n",
      "Epoch 62/100\n",
      "163/163 [==============================] - 60s 366ms/step - loss: 0.0448 - acc: 0.9831 - val_loss: 0.4367 - val_acc: 0.9027\n",
      "Epoch 63/100\n",
      "163/163 [==============================] - 60s 366ms/step - loss: 0.0541 - acc: 0.9816 - val_loss: 0.3494 - val_acc: 0.9027\n",
      "Epoch 64/100\n",
      "163/163 [==============================] - 60s 366ms/step - loss: 0.0501 - acc: 0.9841 - val_loss: 0.3881 - val_acc: 0.9046\n",
      "Epoch 65/100\n",
      "163/163 [==============================] - 60s 369ms/step - loss: 0.0513 - acc: 0.9791 - val_loss: 0.3921 - val_acc: 0.8931\n",
      "Epoch 66/100\n",
      "163/163 [==============================] - 60s 367ms/step - loss: 0.0491 - acc: 0.9824 - val_loss: 0.4254 - val_acc: 0.8969\n",
      "Epoch 67/100\n",
      "163/163 [==============================] - 60s 366ms/step - loss: 0.0469 - acc: 0.9812 - val_loss: 0.4480 - val_acc: 0.9008\n",
      "Epoch 68/100\n",
      "163/163 [==============================] - 60s 367ms/step - loss: 0.0394 - acc: 0.9868 - val_loss: 0.4250 - val_acc: 0.8989\n",
      "Epoch 69/100\n",
      "163/163 [==============================] - 60s 367ms/step - loss: 0.0405 - acc: 0.9854 - val_loss: 0.4201 - val_acc: 0.8836\n",
      "Epoch 70/100\n",
      "163/163 [==============================] - 60s 368ms/step - loss: 0.0404 - acc: 0.9849 - val_loss: 0.4101 - val_acc: 0.9046\n",
      "Epoch 71/100\n",
      "163/163 [==============================] - 60s 370ms/step - loss: 0.0417 - acc: 0.9847 - val_loss: 0.4474 - val_acc: 0.8931\n",
      "Epoch 72/100\n",
      "163/163 [==============================] - 60s 365ms/step - loss: 0.0491 - acc: 0.9843 - val_loss: 0.3959 - val_acc: 0.8950\n",
      "Epoch 73/100\n",
      "163/163 [==============================] - 60s 366ms/step - loss: 0.0403 - acc: 0.9864 - val_loss: 0.5574 - val_acc: 0.8817\n",
      "Epoch 74/100\n",
      "163/163 [==============================] - 60s 366ms/step - loss: 0.0387 - acc: 0.9860 - val_loss: 0.5819 - val_acc: 0.8702\n",
      "Epoch 75/100\n",
      "163/163 [==============================] - 60s 366ms/step - loss: 0.0422 - acc: 0.9856 - val_loss: 0.4831 - val_acc: 0.8817\n",
      "Epoch 76/100\n",
      "163/163 [==============================] - 60s 365ms/step - loss: 0.0413 - acc: 0.9833 - val_loss: 0.6140 - val_acc: 0.8664\n",
      "Epoch 77/100\n",
      "163/163 [==============================] - 59s 365ms/step - loss: 0.0402 - acc: 0.9833 - val_loss: 0.4272 - val_acc: 0.8969\n",
      "Epoch 78/100\n",
      "163/163 [==============================] - 60s 366ms/step - loss: 0.0442 - acc: 0.9843 - val_loss: 0.5031 - val_acc: 0.8969\n",
      "Epoch 79/100\n",
      "163/163 [==============================] - 59s 364ms/step - loss: 0.0327 - acc: 0.9881 - val_loss: 0.3904 - val_acc: 0.8950\n",
      "Epoch 80/100\n",
      "163/163 [==============================] - 60s 367ms/step - loss: 0.0399 - acc: 0.9862 - val_loss: 0.3573 - val_acc: 0.9008\n",
      "Epoch 81/100\n",
      "163/163 [==============================] - 60s 365ms/step - loss: 0.0378 - acc: 0.9845 - val_loss: 0.5026 - val_acc: 0.8855\n",
      "Epoch 82/100\n",
      "163/163 [==============================] - 60s 365ms/step - loss: 0.0312 - acc: 0.9893 - val_loss: 0.5187 - val_acc: 0.8798\n",
      "Epoch 83/100\n",
      "163/163 [==============================] - 60s 367ms/step - loss: 0.0341 - acc: 0.9883 - val_loss: 0.5161 - val_acc: 0.9065\n",
      "Epoch 84/100\n",
      "163/163 [==============================] - 60s 366ms/step - loss: 0.0379 - acc: 0.9856 - val_loss: 0.5098 - val_acc: 0.8931\n",
      "Epoch 85/100\n",
      "163/163 [==============================] - 60s 366ms/step - loss: 0.0395 - acc: 0.9843 - val_loss: 0.6758 - val_acc: 0.8721\n",
      "Epoch 86/100\n",
      "163/163 [==============================] - 61s 374ms/step - loss: 0.0346 - acc: 0.9877 - val_loss: 0.6283 - val_acc: 0.8569\n",
      "Epoch 87/100\n",
      "163/163 [==============================] - 63s 386ms/step - loss: 0.0251 - acc: 0.9902 - val_loss: 0.4745 - val_acc: 0.8969\n",
      "Epoch 88/100\n",
      "163/163 [==============================] - 63s 386ms/step - loss: 0.0340 - acc: 0.9883 - val_loss: 0.5569 - val_acc: 0.8874\n",
      "Epoch 89/100\n",
      "163/163 [==============================] - 74s 451ms/step - loss: 0.0348 - acc: 0.9877 - val_loss: 0.6705 - val_acc: 0.8798\n",
      "Epoch 90/100\n",
      "163/163 [==============================] - 68s 419ms/step - loss: 0.0331 - acc: 0.9877 - val_loss: 0.5112 - val_acc: 0.8893\n",
      "Epoch 91/100\n",
      "163/163 [==============================] - 60s 366ms/step - loss: 0.0290 - acc: 0.9900 - val_loss: 0.5050 - val_acc: 0.8931\n",
      "Epoch 92/100\n",
      "163/163 [==============================] - 60s 367ms/step - loss: 0.0337 - acc: 0.9887 - val_loss: 0.5178 - val_acc: 0.8779\n",
      "Epoch 93/100\n",
      "163/163 [==============================] - 60s 368ms/step - loss: 0.0277 - acc: 0.9891 - val_loss: 0.3919 - val_acc: 0.8950\n",
      "Epoch 94/100\n",
      "163/163 [==============================] - 60s 367ms/step - loss: 0.0283 - acc: 0.9908 - val_loss: 0.5723 - val_acc: 0.8836\n",
      "Epoch 95/100\n",
      "163/163 [==============================] - 60s 368ms/step - loss: 0.0315 - acc: 0.9873 - val_loss: 0.5223 - val_acc: 0.8798\n",
      "Epoch 96/100\n",
      "163/163 [==============================] - 60s 365ms/step - loss: 0.0261 - acc: 0.9910 - val_loss: 0.6239 - val_acc: 0.8893\n",
      "Epoch 97/100\n",
      "163/163 [==============================] - 61s 372ms/step - loss: 0.0348 - acc: 0.9879 - val_loss: 0.5440 - val_acc: 0.8969\n",
      "Epoch 98/100\n",
      "163/163 [==============================] - 60s 366ms/step - loss: 0.0243 - acc: 0.9912 - val_loss: 0.5530 - val_acc: 0.8817\n",
      "Epoch 99/100\n",
      "163/163 [==============================] - 60s 366ms/step - loss: 0.0310 - acc: 0.9898 - val_loss: 0.6880 - val_acc: 0.8702\n",
      "Epoch 100/100\n",
      "163/163 [==============================] - 60s 366ms/step - loss: 0.0339 - acc: 0.9883 - val_loss: 0.5203 - val_acc: 0.8893\n"
     ]
    }
   ],
   "source": [
    "hist = classifier.fit_generator(\n",
    "        training_set,\n",
    "        steps_per_epoch=163,\n",
    "        epochs=100,\n",
    "        validation_data=validation_set,\n",
    "        validation_steps=17)\n",
    "\n",
    "\n",
    "classifier.save('chest_xray\\\\xray_train_model.h5');\n",
    "classifier.save_weights('chest_xray\\\\resul_train_model.h5');\n",
    "classifier.save('chest_xray\\\\xray_train.json')\n",
    "classifier.save_weights('chest_xray\\\\xray_train_weight.json')"
   ]
  },
  {
   "cell_type": "code",
   "execution_count": 16,
   "metadata": {},
   "outputs": [
    {
     "name": "stdout",
     "output_type": "stream",
     "text": [
      "\n",
      "acc: 95.69%\n"
     ]
    }
   ],
   "source": [
    "# evaluate the model\n",
    "scores = classifier.evaluate_generator(test_data)\n",
    "print(\"\\n%s: %.2f%%\" % (classifier.metrics_names[1], scores[1]*100))"
   ]
  },
  {
   "cell_type": "code",
   "execution_count": 18,
   "metadata": {},
   "outputs": [
    {
     "data": {
      "image/png": "[encoded data removed]",
      "text/plain": [
       "<Figure size 432x288 with 1 Axes>"
      ]
     },
     "metadata": {
      "needs_background": "light"
     },
     "output_type": "display_data"
    }
   ],
   "source": [
    "#visualization _Graph showing model training loss and validation loss\n",
    "import matplotlib.pyplot as plt\n",
    "plt.figure()\n",
    "plt.plot(hist.history['loss'])\n",
    "plt.plot(hist.history['val_loss'])\n",
    "plt.title('Model loss')\n",
    "plt.ylabel('Loss')\n",
    "plt.xlabel('Epoch')\n",
    "plt.legend(['Train', 'Val'], loc='upper right')\n",
    "plt.show()"
   ]
  },
  {
   "cell_type": "code",
   "execution_count": 19,
   "metadata": {},
   "outputs": [
    {
     "data": {
      "image/png": "[encoded data removed]",
      "text/plain": [
       "<Figure size 432x288 with 1 Axes>"
      ]
     },
     "metadata": {
      "needs_background": "light"
     },
     "output_type": "display_data"
    }
   ],
   "source": [
    "#visualization _ Graph showing model training and validation accuracy\n",
    "plt.figure()\n",
    "plt.plot(hist.history['acc'])\n",
    "plt.plot(hist.history['val_acc'])\n",
    "plt.title('Model accuracy')\n",
    "plt.ylabel('Accuracy')\n",
    "plt.xlabel('Epoch')\n",
    "plt.legend(['Train', 'Val'], loc='lower right')\n",
    "plt.show()"
   ]
  }
 ],
 "metadata": {
  "kernelspec": {
   "display_name": "Python 3",
   "language": "python",
   "name": "python3"
  },
  "language_info": {
   "codemirror_mode": {
    "name": "ipython",
    "version": 3
   },
   "file_extension": ".py",
   "mimetype": "text/x-python",
   "name": "python",
   "nbconvert_exporter": "python",
   "pygments_lexer": "ipython3",
   "version": "3.7.5"
  }
 },
 "nbformat": 4,
 "nbformat_minor": 2
}
