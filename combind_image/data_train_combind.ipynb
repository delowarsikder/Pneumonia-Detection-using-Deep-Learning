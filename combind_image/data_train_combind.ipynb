{
 "cells": [
  {
   "cell_type": "code",
   "execution_count": 8,
   "metadata": {
    "scrolled": true
   },
   "outputs": [],
   "source": [
    "import  keras\n",
    "from tensorflow.keras.models import Sequential #initialized the nural network#create cnn for 2d here image is 2d ,but video is 3d\n",
    "from tensorflow.keras.layers import Conv2D\n",
    "from tensorflow.keras.layers import MaxPooling2D\n",
    "from tensorflow.keras.layers import Flatten\n",
    "from tensorflow.keras.layers import Dense #layer fully connected ann \n",
    " "
   ]
  },
  {
   "cell_type": "code",
   "execution_count": 9,
   "metadata": {},
   "outputs": [],
   "source": [
    "#initialization the CNN\n",
    "classifier=Sequential()\n",
    "\n",
    "#step-1 Convolution\n",
    "classifier.add(Conv2D(32,(3,3),input_shape=(64,64,3),activation='relu'))#32 filte ,3 row and column\n",
    "#input_shape 64 x 64 image 3 no of channel\n",
    "\n",
    "#Step 2 - pooling  #reduce array size \n",
    "classifier.add(MaxPooling2D(pool_size=(2,2)))\n",
    "\n",
    "#Adding a second convolution layer #not execute it's next\n",
    "classifier.add(Conv2D(32,(3,3),activation='relu'))#32 filte ,3 row and column\n",
    "classifier.add(MaxPooling2D(pool_size=(2,2)))\n",
    "\n",
    "#Step -3 Flatten #covrt 2d array to 1d\n",
    "classifier.add(Flatten())\n",
    " \n",
    "#Step 4 full connection\n",
    "#adding hidden layer\n",
    "classifier.add(Dense(128,activation='relu'))\n",
    "classifier.add(Dense(1,activation='sigmoid'))"
   ]
  },
  {
   "cell_type": "code",
   "execution_count": 10,
   "metadata": {},
   "outputs": [
    {
     "name": "stdout",
     "output_type": "stream",
     "text": [
      "Model: \"sequential\"\n",
      "_________________________________________________________________\n",
      "Layer (type)                 Output Shape              Param #   \n",
      "=================================================================\n",
      "conv2d (Conv2D)              (None, 62, 62, 32)        896       \n",
      "_________________________________________________________________\n",
      "max_pooling2d (MaxPooling2D) (None, 31, 31, 32)        0         \n",
      "_________________________________________________________________\n",
      "conv2d_1 (Conv2D)            (None, 29, 29, 32)        9248      \n",
      "_________________________________________________________________\n",
      "max_pooling2d_1 (MaxPooling2 (None, 14, 14, 32)        0         \n",
      "_________________________________________________________________\n",
      "flatten (Flatten)            (None, 6272)              0         \n",
      "_________________________________________________________________\n",
      "dense (Dense)                (None, 128)               802944    \n",
      "_________________________________________________________________\n",
      "dense_1 (Dense)              (None, 1)                 129       \n",
      "=================================================================\n",
      "Total params: 813,217\n",
      "Trainable params: 813,217\n",
      "Non-trainable params: 0\n",
      "_________________________________________________________________\n",
      "None\n"
     ]
    }
   ],
   "source": [
    "print(classifier.summary())"
   ]
  },
  {
   "cell_type": "code",
   "execution_count": 11,
   "metadata": {},
   "outputs": [],
   "source": [
    "#Compiling the CNN\n",
    "classifier.compile(optimizer='adam',loss='binary_crossentropy',metrics=['accuracy'])\n",
    "#Part -2 Fitting the CNN to the images\n"
   ]
  },
  {
   "cell_type": "code",
   "execution_count": 12,
   "metadata": {},
   "outputs": [
    {
     "name": "stdout",
     "output_type": "stream",
     "text": [
      "Found 5216 images belonging to 2 classes.\n",
      "Found 640 images belonging to 2 classes.\n"
     ]
    }
   ],
   "source": [
    "from keras.preprocessing.image import ImageDataGenerator\n",
    "\n",
    "train_datagen = ImageDataGenerator(\n",
    "        rescale=1./255,\n",
    "\n",
    "        shear_range=0.2,\n",
    "        zoom_range=0.2,\n",
    "        horizontal_flip=True)\n",
    "\n",
    "test_datagen = ImageDataGenerator(rescale=1./255)\n",
    "\n",
    "training_set = train_datagen.flow_from_directory(\n",
    "        'train',\n",
    "        target_size=(64, 64),\n",
    "        batch_size=32,\n",
    "        class_mode='binary')\n",
    "\n",
    "validation_set = test_datagen.flow_from_directory(\n",
    "        'validation',\n",
    "        target_size=(64, 64),\n",
    "        batch_size=32,\n",
    "        class_mode='binary')\n"
   ]
  },
  {
   "cell_type": "code",
   "execution_count": 20,
   "metadata": {},
   "outputs": [
    {
     "name": "stdout",
     "output_type": "stream",
     "text": [
      "Found 640 images belonging to 2 classes.\n"
     ]
    }
   ],
   "source": [
    "test_data = test_datagen.flow_from_directory(\n",
    "        'validation',\n",
    "        target_size=(64, 64),\n",
    "        batch_size=32,\n",
    "        class_mode='binary')"
   ]
  },
  {
   "cell_type": "code",
   "execution_count": 13,
   "metadata": {},
   "outputs": [
    {
     "name": "stdout",
     "output_type": "stream",
     "text": [
      "Epoch 1/100\n",
      "163/163 [==============================] - 119s 731ms/step - loss: 0.3391 - accuracy: 0.8512 - val_loss: 0.3538 - val_accuracy: 0.8422\n",
      "Epoch 2/100\n",
      "163/163 [==============================] - 87s 532ms/step - loss: 0.2362 - accuracy: 0.9039 - val_loss: 0.3446 - val_accuracy: 0.8625\n",
      "Epoch 3/100\n",
      "163/163 [==============================] - 86s 526ms/step - loss: 0.1943 - accuracy: 0.9225 - val_loss: 0.3744 - val_accuracy: 0.8484\n",
      "Epoch 4/100\n",
      "163/163 [==============================] - 85s 522ms/step - loss: 0.1765 - accuracy: 0.9316 - val_loss: 0.5101 - val_accuracy: 0.8047\n",
      "Epoch 5/100\n",
      "163/163 [==============================] - 85s 522ms/step - loss: 0.1832 - accuracy: 0.9271 - val_loss: 0.3521 - val_accuracy: 0.8516\n",
      "Epoch 6/100\n",
      "163/163 [==============================] - 85s 520ms/step - loss: 0.1808 - accuracy: 0.9250 - val_loss: 0.3401 - val_accuracy: 0.8891\n",
      "Epoch 7/100\n",
      "163/163 [==============================] - 86s 526ms/step - loss: 0.1537 - accuracy: 0.9413 - val_loss: 0.3574 - val_accuracy: 0.8750\n",
      "Epoch 8/100\n",
      "163/163 [==============================] - 85s 521ms/step - loss: 0.1474 - accuracy: 0.9440 - val_loss: 0.3401 - val_accuracy: 0.8625\n",
      "Epoch 9/100\n",
      "163/163 [==============================] - 85s 522ms/step - loss: 0.1373 - accuracy: 0.9463 - val_loss: 0.3768 - val_accuracy: 0.8828\n",
      "Epoch 10/100\n",
      "163/163 [==============================] - 85s 523ms/step - loss: 0.1557 - accuracy: 0.9390 - val_loss: 0.3929 - val_accuracy: 0.8641\n",
      "Epoch 11/100\n",
      "163/163 [==============================] - 84s 517ms/step - loss: 0.1351 - accuracy: 0.9477 - val_loss: 0.3261 - val_accuracy: 0.8953\n",
      "Epoch 12/100\n",
      "163/163 [==============================] - 85s 523ms/step - loss: 0.1340 - accuracy: 0.9509 - val_loss: 0.2897 - val_accuracy: 0.8984\n",
      "Epoch 13/100\n",
      "163/163 [==============================] - 85s 520ms/step - loss: 0.1291 - accuracy: 0.9502 - val_loss: 0.3212 - val_accuracy: 0.8922\n",
      "Epoch 14/100\n",
      "163/163 [==============================] - 85s 522ms/step - loss: 0.1240 - accuracy: 0.9526 - val_loss: 0.3536 - val_accuracy: 0.8906\n",
      "Epoch 15/100\n",
      "163/163 [==============================] - 85s 523ms/step - loss: 0.1245 - accuracy: 0.9534 - val_loss: 0.3043 - val_accuracy: 0.8953\n",
      "Epoch 16/100\n",
      "163/163 [==============================] - 86s 526ms/step - loss: 0.1210 - accuracy: 0.9532 - val_loss: 0.2892 - val_accuracy: 0.9094\n",
      "Epoch 17/100\n",
      "163/163 [==============================] - 86s 529ms/step - loss: 0.1120 - accuracy: 0.9538 - val_loss: 0.2567 - val_accuracy: 0.9156\n",
      "Epoch 18/100\n",
      "163/163 [==============================] - 85s 523ms/step - loss: 0.1089 - accuracy: 0.9601 - val_loss: 0.6463 - val_accuracy: 0.8250\n",
      "Epoch 19/100\n",
      "163/163 [==============================] - 85s 520ms/step - loss: 0.1071 - accuracy: 0.9607 - val_loss: 0.3607 - val_accuracy: 0.8844\n",
      "Epoch 20/100\n",
      "163/163 [==============================] - 85s 521ms/step - loss: 0.1035 - accuracy: 0.9605 - val_loss: 0.4406 - val_accuracy: 0.8609\n",
      "Epoch 21/100\n",
      "163/163 [==============================] - 85s 522ms/step - loss: 0.0988 - accuracy: 0.9599 - val_loss: 0.3058 - val_accuracy: 0.9016\n",
      "Epoch 22/100\n",
      "163/163 [==============================] - 85s 521ms/step - loss: 0.1028 - accuracy: 0.9601 - val_loss: 0.3766 - val_accuracy: 0.8734\n",
      "Epoch 23/100\n",
      "163/163 [==============================] - 85s 520ms/step - loss: 0.0995 - accuracy: 0.9622 - val_loss: 0.2426 - val_accuracy: 0.9141\n",
      "Epoch 24/100\n",
      "163/163 [==============================] - 85s 520ms/step - loss: 0.0961 - accuracy: 0.9618 - val_loss: 0.2816 - val_accuracy: 0.9172\n",
      "Epoch 25/100\n",
      "163/163 [==============================] - 85s 520ms/step - loss: 0.0911 - accuracy: 0.9643 - val_loss: 0.4299 - val_accuracy: 0.8703\n",
      "Epoch 26/100\n",
      "163/163 [==============================] - 85s 523ms/step - loss: 0.0926 - accuracy: 0.9628 - val_loss: 0.3310 - val_accuracy: 0.9000\n",
      "Epoch 27/100\n",
      "163/163 [==============================] - 85s 520ms/step - loss: 0.0880 - accuracy: 0.9663 - val_loss: 0.3145 - val_accuracy: 0.9031\n",
      "Epoch 28/100\n",
      "163/163 [==============================] - 86s 527ms/step - loss: 0.0896 - accuracy: 0.9647 - val_loss: 0.2334 - val_accuracy: 0.9297\n",
      "Epoch 29/100\n",
      "163/163 [==============================] - 85s 520ms/step - loss: 0.0878 - accuracy: 0.9649 - val_loss: 0.3743 - val_accuracy: 0.8797\n",
      "Epoch 30/100\n",
      "163/163 [==============================] - 85s 522ms/step - loss: 0.0848 - accuracy: 0.9684 - val_loss: 0.5388 - val_accuracy: 0.8484\n",
      "Epoch 31/100\n",
      "163/163 [==============================] - 87s 535ms/step - loss: 0.0839 - accuracy: 0.9682 - val_loss: 0.4829 - val_accuracy: 0.8672\n",
      "Epoch 32/100\n",
      "163/163 [==============================] - 96s 591ms/step - loss: 0.0854 - accuracy: 0.9686 - val_loss: 0.3498 - val_accuracy: 0.8953\n",
      "Epoch 33/100\n",
      "163/163 [==============================] - 97s 595ms/step - loss: 0.0854 - accuracy: 0.9672 - val_loss: 0.2320 - val_accuracy: 0.9266\n",
      "Epoch 34/100\n",
      "163/163 [==============================] - 103s 633ms/step - loss: 0.0866 - accuracy: 0.9674 - val_loss: 0.3498 - val_accuracy: 0.8953\n",
      "Epoch 35/100\n",
      "163/163 [==============================] - 101s 619ms/step - loss: 0.0695 - accuracy: 0.9739 - val_loss: 0.3067 - val_accuracy: 0.9031\n",
      "Epoch 36/100\n",
      "163/163 [==============================] - 99s 607ms/step - loss: 0.0812 - accuracy: 0.9682 - val_loss: 0.4102 - val_accuracy: 0.8953\n",
      "Epoch 37/100\n",
      "163/163 [==============================] - 101s 621ms/step - loss: 0.0751 - accuracy: 0.9705 - val_loss: 0.3299 - val_accuracy: 0.9016\n",
      "Epoch 38/100\n",
      "163/163 [==============================] - 102s 626ms/step - loss: 0.0832 - accuracy: 0.9705 - val_loss: 0.4144 - val_accuracy: 0.8687\n",
      "Epoch 39/100\n",
      "163/163 [==============================] - 100s 614ms/step - loss: 0.0738 - accuracy: 0.9718 - val_loss: 0.3002 - val_accuracy: 0.9172\n",
      "Epoch 40/100\n",
      "163/163 [==============================] - 108s 665ms/step - loss: 0.0725 - accuracy: 0.9739 - val_loss: 0.3364 - val_accuracy: 0.9016\n",
      "Epoch 41/100\n",
      "163/163 [==============================] - 104s 639ms/step - loss: 0.0661 - accuracy: 0.9755 - val_loss: 0.2955 - val_accuracy: 0.9125\n",
      "Epoch 42/100\n",
      "163/163 [==============================] - 103s 633ms/step - loss: 0.0761 - accuracy: 0.9741 - val_loss: 0.4007 - val_accuracy: 0.8859\n",
      "Epoch 43/100\n",
      "163/163 [==============================] - 109s 668ms/step - loss: 0.0662 - accuracy: 0.9749 - val_loss: 0.2680 - val_accuracy: 0.9141\n",
      "Epoch 44/100\n",
      "163/163 [==============================] - 86s 529ms/step - loss: 0.0770 - accuracy: 0.9728 - val_loss: 0.2503 - val_accuracy: 0.9141\n",
      "Epoch 45/100\n",
      "163/163 [==============================] - 87s 533ms/step - loss: 0.0673 - accuracy: 0.9758 - val_loss: 0.3692 - val_accuracy: 0.9031\n",
      "Epoch 46/100\n",
      "163/163 [==============================] - 86s 525ms/step - loss: 0.0681 - accuracy: 0.9739 - val_loss: 0.5044 - val_accuracy: 0.8781\n",
      "Epoch 47/100\n",
      "163/163 [==============================] - 86s 530ms/step - loss: 0.0774 - accuracy: 0.9705 - val_loss: 0.2794 - val_accuracy: 0.9125\n",
      "Epoch 48/100\n",
      "163/163 [==============================] - 86s 525ms/step - loss: 0.0639 - accuracy: 0.9757 - val_loss: 0.2890 - val_accuracy: 0.9094\n",
      "Epoch 49/100\n",
      "163/163 [==============================] - 86s 529ms/step - loss: 0.0732 - accuracy: 0.9730 - val_loss: 0.2557 - val_accuracy: 0.9234\n",
      "Epoch 50/100\n",
      "163/163 [==============================] - 86s 525ms/step - loss: 0.0621 - accuracy: 0.9764 - val_loss: 0.3136 - val_accuracy: 0.9062\n",
      "Epoch 51/100\n",
      "163/163 [==============================] - 86s 530ms/step - loss: 0.0622 - accuracy: 0.9770 - val_loss: 0.3293 - val_accuracy: 0.9125\n",
      "Epoch 52/100\n",
      "163/163 [==============================] - 86s 527ms/step - loss: 0.0577 - accuracy: 0.9791 - val_loss: 0.2651 - val_accuracy: 0.9203\n",
      "Epoch 53/100\n",
      "163/163 [==============================] - 86s 530ms/step - loss: 0.0569 - accuracy: 0.9801 - val_loss: 0.2680 - val_accuracy: 0.9187\n",
      "Epoch 54/100\n",
      "163/163 [==============================] - 86s 528ms/step - loss: 0.0564 - accuracy: 0.9793 - val_loss: 0.2832 - val_accuracy: 0.9203\n",
      "Epoch 55/100\n",
      "163/163 [==============================] - 91s 557ms/step - loss: 0.0590 - accuracy: 0.9776 - val_loss: 0.2767 - val_accuracy: 0.9172\n",
      "Epoch 56/100\n",
      "163/163 [==============================] - 88s 543ms/step - loss: 0.0596 - accuracy: 0.9760 - val_loss: 0.4121 - val_accuracy: 0.8859\n"
     ]
    },
    {
     "name": "stdout",
     "output_type": "stream",
     "text": [
      "Epoch 57/100\n",
      "163/163 [==============================] - 86s 527ms/step - loss: 0.0608 - accuracy: 0.9774 - val_loss: 0.2928 - val_accuracy: 0.9000\n",
      "Epoch 58/100\n",
      "163/163 [==============================] - 86s 527ms/step - loss: 0.0529 - accuracy: 0.9820 - val_loss: 0.4985 - val_accuracy: 0.8703\n",
      "Epoch 59/100\n",
      "163/163 [==============================] - 86s 528ms/step - loss: 0.0539 - accuracy: 0.9810 - val_loss: 0.3812 - val_accuracy: 0.9000\n",
      "Epoch 60/100\n",
      "163/163 [==============================] - 86s 527ms/step - loss: 0.0609 - accuracy: 0.9781 - val_loss: 0.3053 - val_accuracy: 0.9156\n",
      "Epoch 61/100\n",
      "163/163 [==============================] - 86s 526ms/step - loss: 0.0555 - accuracy: 0.9804 - val_loss: 0.2878 - val_accuracy: 0.9187\n",
      "Epoch 62/100\n",
      "163/163 [==============================] - 86s 525ms/step - loss: 0.0586 - accuracy: 0.9758 - val_loss: 0.2674 - val_accuracy: 0.9156\n",
      "Epoch 63/100\n",
      "163/163 [==============================] - 86s 528ms/step - loss: 0.0459 - accuracy: 0.9841 - val_loss: 0.3979 - val_accuracy: 0.8906\n",
      "Epoch 64/100\n",
      "163/163 [==============================] - 86s 528ms/step - loss: 0.0640 - accuracy: 0.9772 - val_loss: 0.3448 - val_accuracy: 0.9016\n",
      "Epoch 65/100\n",
      "163/163 [==============================] - 86s 527ms/step - loss: 0.0575 - accuracy: 0.9785 - val_loss: 0.3751 - val_accuracy: 0.9094\n",
      "Epoch 66/100\n",
      "163/163 [==============================] - 87s 531ms/step - loss: 0.0510 - accuracy: 0.9808 - val_loss: 0.3755 - val_accuracy: 0.9000\n",
      "Epoch 67/100\n",
      "163/163 [==============================] - 86s 526ms/step - loss: 0.0436 - accuracy: 0.9849 - val_loss: 0.3699 - val_accuracy: 0.9125\n",
      "Epoch 68/100\n",
      "163/163 [==============================] - 86s 528ms/step - loss: 0.0476 - accuracy: 0.9843 - val_loss: 0.4483 - val_accuracy: 0.9000\n",
      "Epoch 69/100\n",
      "163/163 [==============================] - 86s 527ms/step - loss: 0.0535 - accuracy: 0.9849 - val_loss: 0.3384 - val_accuracy: 0.9125\n",
      "Epoch 70/100\n",
      "163/163 [==============================] - 85s 523ms/step - loss: 0.0436 - accuracy: 0.9841 - val_loss: 0.3104 - val_accuracy: 0.9125\n",
      "Epoch 71/100\n",
      "163/163 [==============================] - 86s 529ms/step - loss: 0.0484 - accuracy: 0.9833 - val_loss: 0.5051 - val_accuracy: 0.8750\n",
      "Epoch 72/100\n",
      "163/163 [==============================] - 86s 527ms/step - loss: 0.0468 - accuracy: 0.9843 - val_loss: 0.3961 - val_accuracy: 0.8922\n",
      "Epoch 73/100\n",
      "163/163 [==============================] - 86s 527ms/step - loss: 0.0423 - accuracy: 0.9856 - val_loss: 0.4169 - val_accuracy: 0.8969\n",
      "Epoch 74/100\n",
      "163/163 [==============================] - 86s 526ms/step - loss: 0.0450 - accuracy: 0.9831 - val_loss: 0.3185 - val_accuracy: 0.9250\n",
      "Epoch 75/100\n",
      "163/163 [==============================] - 89s 543ms/step - loss: 0.0487 - accuracy: 0.9820 - val_loss: 0.3145 - val_accuracy: 0.9125\n",
      "Epoch 76/100\n",
      "163/163 [==============================] - 86s 529ms/step - loss: 0.0502 - accuracy: 0.9812 - val_loss: 0.4200 - val_accuracy: 0.8875\n",
      "Epoch 77/100\n",
      "163/163 [==============================] - 86s 530ms/step - loss: 0.0387 - accuracy: 0.9858 - val_loss: 0.4554 - val_accuracy: 0.8891\n",
      "Epoch 78/100\n",
      "163/163 [==============================] - 86s 527ms/step - loss: 0.0467 - accuracy: 0.9818 - val_loss: 0.2775 - val_accuracy: 0.9234\n",
      "Epoch 79/100\n",
      "163/163 [==============================] - 86s 528ms/step - loss: 0.0363 - accuracy: 0.9860 - val_loss: 0.3910 - val_accuracy: 0.9016\n",
      "Epoch 80/100\n",
      "163/163 [==============================] - 85s 522ms/step - loss: 0.0432 - accuracy: 0.9849 - val_loss: 0.4869 - val_accuracy: 0.8734\n",
      "Epoch 81/100\n",
      "163/163 [==============================] - 86s 527ms/step - loss: 0.0399 - accuracy: 0.9843 - val_loss: 0.3816 - val_accuracy: 0.8953\n",
      "Epoch 82/100\n",
      "163/163 [==============================] - 86s 526ms/step - loss: 0.0456 - accuracy: 0.9854 - val_loss: 0.6263 - val_accuracy: 0.8656\n",
      "Epoch 83/100\n",
      "163/163 [==============================] - 87s 532ms/step - loss: 0.0329 - accuracy: 0.9872 - val_loss: 0.6631 - val_accuracy: 0.8609\n",
      "Epoch 84/100\n",
      "163/163 [==============================] - 86s 528ms/step - loss: 0.0399 - accuracy: 0.9847 - val_loss: 0.5542 - val_accuracy: 0.8781\n",
      "Epoch 85/100\n",
      "163/163 [==============================] - 86s 526ms/step - loss: 0.0385 - accuracy: 0.9864 - val_loss: 0.3877 - val_accuracy: 0.9031\n",
      "Epoch 86/100\n",
      "163/163 [==============================] - 86s 526ms/step - loss: 0.0357 - accuracy: 0.9889 - val_loss: 0.4362 - val_accuracy: 0.9016\n",
      "Epoch 87/100\n",
      "163/163 [==============================] - 87s 531ms/step - loss: 0.0421 - accuracy: 0.9839 - val_loss: 0.6098 - val_accuracy: 0.8672\n",
      "Epoch 88/100\n",
      "163/163 [==============================] - 86s 526ms/step - loss: 0.0423 - accuracy: 0.9837 - val_loss: 0.4276 - val_accuracy: 0.8938\n",
      "Epoch 89/100\n",
      "163/163 [==============================] - 86s 529ms/step - loss: 0.0372 - accuracy: 0.9864 - val_loss: 0.3918 - val_accuracy: 0.9062\n",
      "Epoch 90/100\n",
      "163/163 [==============================] - 86s 525ms/step - loss: 0.0379 - accuracy: 0.9856 - val_loss: 0.7228 - val_accuracy: 0.8625\n",
      "Epoch 91/100\n",
      "163/163 [==============================] - 86s 527ms/step - loss: 0.0367 - accuracy: 0.9883 - val_loss: 0.4150 - val_accuracy: 0.9000\n",
      "Epoch 92/100\n",
      "163/163 [==============================] - 86s 527ms/step - loss: 0.0365 - accuracy: 0.9875 - val_loss: 0.3086 - val_accuracy: 0.9094\n",
      "Epoch 93/100\n",
      "163/163 [==============================] - 86s 527ms/step - loss: 0.0397 - accuracy: 0.9860 - val_loss: 0.4902 - val_accuracy: 0.8922\n",
      "Epoch 94/100\n",
      "163/163 [==============================] - 86s 526ms/step - loss: 0.0321 - accuracy: 0.9875 - val_loss: 0.4421 - val_accuracy: 0.8906\n",
      "Epoch 95/100\n",
      "163/163 [==============================] - 85s 524ms/step - loss: 0.0305 - accuracy: 0.9895 - val_loss: 0.3111 - val_accuracy: 0.9109\n",
      "Epoch 96/100\n",
      "163/163 [==============================] - 86s 525ms/step - loss: 0.0363 - accuracy: 0.9877 - val_loss: 0.6284 - val_accuracy: 0.8734\n",
      "Epoch 97/100\n",
      "163/163 [==============================] - 86s 526ms/step - loss: 0.0353 - accuracy: 0.9879 - val_loss: 0.5647 - val_accuracy: 0.8750\n",
      "Epoch 98/100\n",
      "163/163 [==============================] - 87s 536ms/step - loss: 0.0345 - accuracy: 0.9889 - val_loss: 0.3740 - val_accuracy: 0.9109\n",
      "Epoch 99/100\n",
      "163/163 [==============================] - 86s 531ms/step - loss: 0.0314 - accuracy: 0.9887 - val_loss: 0.4575 - val_accuracy: 0.9000\n",
      "Epoch 100/100\n",
      "163/163 [==============================] - 86s 528ms/step - loss: 0.0307 - accuracy: 0.9893 - val_loss: 0.4657 - val_accuracy: 0.9031\n",
      "WARNING:tensorflow:From C:\\Users\\DelowaR\\Anaconda3\\envs\\openCvGPU\\lib\\site-packages\\tensorflow_core\\python\\ops\\resource_variable_ops.py:1781: calling BaseResourceVariable.__init__ (from tensorflow.python.ops.resource_variable_ops) with constraint is deprecated and will be removed in a future version.\n",
      "Instructions for updating:\n",
      "If using Keras pass *_constraint arguments to layers.\n",
      "INFO:tensorflow:Assets written to: C:\\Users\\DelowaR\\jupyder\\project_cse_3200\\combind_image\\xray_train.json\\assets\n"
     ]
    }
   ],
   "source": [
    "path ='C:\\\\Users\\\\DelowaR\\\\jupyder\\\\project_cse_3200\\\\combind_image\\\\'\n",
    "hist = classifier.fit_generator(\n",
    "        training_set,\n",
    "        steps_per_epoch=163,\n",
    "        epochs=100,\n",
    "        validation_data=validation_set,\n",
    "        validation_steps=20)\n",
    "\n",
    "\n",
    "classifier.save(path+'xray_train_model.h5');\n",
    "classifier.save_weights(path +'resul_train_model.h5');\n",
    "classifier.save(path +'xray_train.json')\n",
    "classifier.save_weights(path + 'xray_train_weight.json')"
   ]
  },
  {
   "cell_type": "code",
   "execution_count": 21,
   "metadata": {},
   "outputs": [
    {
     "name": "stdout",
     "output_type": "stream",
     "text": [
      "\n",
      "accuracy: 90.31%\n"
     ]
    }
   ],
   "source": [
    "# evaluate the model\n",
    "scores = classifier.evaluate_generator(test_data)\n",
    "print(\"\\n%s: %.2f%%\" % (classifier.metrics_names[1], scores[1]*100))"
   ]
  },
  {
   "cell_type": "code",
   "execution_count": 18,
   "metadata": {},
   "outputs": [
    {
     "data": {
      "image/png": "[encoded data removed]",
      "text/plain": [
       "<Figure size 432x288 with 1 Axes>"
      ]
     },
     "metadata": {
      "needs_background": "light"
     },
     "output_type": "display_data"
    }
   ],
   "source": [
    "#visualization _Graph showing model training loss and validation loss\n",
    "import matplotlib.pyplot as plt\n",
    "plt.figure()\n",
    "plt.plot(hist.history['loss'])\n",
    "plt.plot(hist.history['val_loss'])\n",
    "plt.title('Model loss')\n",
    "plt.ylabel('Loss')\n",
    "plt.xlabel('Epoch')\n",
    "plt.legend(['Train', 'Val'], loc='upper right')\n",
    "plt.show()"
   ]
  },
  {
   "cell_type": "code",
   "execution_count": 17,
   "metadata": {},
   "outputs": [
    {
     "ename": "KeyError",
     "evalue": "'acc'",
     "output_type": "error",
     "traceback": [
      "\u001b[1;31m---------------------------------------------------------------------------\u001b[0m",
      "\u001b[1;31mKeyError\u001b[0m                                  Traceback (most recent call last)",
      "\u001b[1;32m<ipython-input-17-5a8eca47824a>\u001b[0m in \u001b[0;36m<module>\u001b[1;34m\u001b[0m\n\u001b[0;32m      1\u001b[0m \u001b[1;31m#visualization _ Graph showing model training and validation accuracy\u001b[0m\u001b[1;33m\u001b[0m\u001b[1;33m\u001b[0m\u001b[1;33m\u001b[0m\u001b[0m\n\u001b[0;32m      2\u001b[0m \u001b[0mplt\u001b[0m\u001b[1;33m.\u001b[0m\u001b[0mfigure\u001b[0m\u001b[1;33m(\u001b[0m\u001b[1;33m)\u001b[0m\u001b[1;33m\u001b[0m\u001b[1;33m\u001b[0m\u001b[0m\n\u001b[1;32m----> 3\u001b[1;33m \u001b[0mplt\u001b[0m\u001b[1;33m.\u001b[0m\u001b[0mplot\u001b[0m\u001b[1;33m(\u001b[0m\u001b[0mhist\u001b[0m\u001b[1;33m.\u001b[0m\u001b[0mhistory\u001b[0m\u001b[1;33m[\u001b[0m\u001b[1;34m'acc'\u001b[0m\u001b[1;33m]\u001b[0m\u001b[1;33m)\u001b[0m\u001b[1;33m\u001b[0m\u001b[1;33m\u001b[0m\u001b[0m\n\u001b[0m\u001b[0;32m      4\u001b[0m \u001b[0mplt\u001b[0m\u001b[1;33m.\u001b[0m\u001b[0mplot\u001b[0m\u001b[1;33m(\u001b[0m\u001b[0mhist\u001b[0m\u001b[1;33m.\u001b[0m\u001b[0mhistory\u001b[0m\u001b[1;33m[\u001b[0m\u001b[1;34m'val_acc'\u001b[0m\u001b[1;33m]\u001b[0m\u001b[1;33m)\u001b[0m\u001b[1;33m\u001b[0m\u001b[1;33m\u001b[0m\u001b[0m\n\u001b[0;32m      5\u001b[0m \u001b[0mplt\u001b[0m\u001b[1;33m.\u001b[0m\u001b[0mtitle\u001b[0m\u001b[1;33m(\u001b[0m\u001b[1;34m'Model accuracy'\u001b[0m\u001b[1;33m)\u001b[0m\u001b[1;33m\u001b[0m\u001b[1;33m\u001b[0m\u001b[0m\n",
      "\u001b[1;31mKeyError\u001b[0m: 'acc'"
     ]
    },
    {
     "data": {
      "text/plain": [
       "<Figure size 432x288 with 0 Axes>"
      ]
     },
     "metadata": {},
     "output_type": "display_data"
    }
   ],
   "source": [
    "#visualization _ Graph showing model training and validation accuracy\n",
    "plt.figure()\n",
    "plt.plot(hist.history['acc'])\n",
    "plt.plot(hist.history['val_acc'])\n",
    "plt.title('Model accuracy')\n",
    "plt.ylabel('Accuracy')\n",
    "plt.xlabel('Epoch')\n",
    "plt.legend(['Train', 'Val'], loc='lower right')\n",
    "plt.show()"
   ]
  }
 ],
 "metadata": {
  "kernelspec": {
   "display_name": "Python 3",
   "language": "python",
   "name": "python3"
  },
  "language_info": {
   "codemirror_mode": {
    "name": "ipython",
    "version": 3
   },
   "file_extension": ".py",
   "mimetype": "text/x-python",
   "name": "python",
   "nbconvert_exporter": "python",
   "pygments_lexer": "ipython3",
   "version": "3.7.5"
  }
 },
 "nbformat": 4,
 "nbformat_minor": 2
}
